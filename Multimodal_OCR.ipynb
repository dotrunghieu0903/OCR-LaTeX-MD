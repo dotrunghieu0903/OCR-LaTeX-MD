{
  "nbformat": 4,
  "nbformat_minor": 0,
  "metadata": {
    "colab": {
      "provenance": [],
      "gpuType": "T4"
    },
    "kernelspec": {
      "name": "python3",
      "display_name": "Python 3"
    },
    "language_info": {
      "name": "python"
    },
    "accelerator": "GPU"
  },
  "cells": [
    {
      "cell_type": "markdown",
      "source": [
        "**Installing all necessary packages**"
      ],
      "metadata": {
        "id": "RugX4SGZV-8O"
      }
    },
    {
      "cell_type": "code",
      "execution_count": 1,
      "metadata": {
        "id": "l-NtFtjSpuJQ"
      },
      "outputs": [],
      "source": [
        "%%capture\n",
        "!pip install gradio transformers transformers-stream-generator qwen-vl-utils\n",
        "!pip install torchvision torch huggingface_hub spaces accelerate ipython\n",
        "!pip install pillow av python-docx python-pptx requests numpy reportlab fpdf hf_xet"
      ]
    },
    {
      "cell_type": "code",
      "source": [
        "import gradio as gr\n",
        "import spaces\n",
        "from transformers import (\n",
        "    Qwen2_5_VLForConditionalGeneration,\n",
        "    Qwen2VLForConditionalGeneration,\n",
        "    AutoProcessor,\n",
        "    TextIteratorStreamer,\n",
        "    AutoTokenizer,\n",
        "    AutoModelForVision2Seq,\n",
        "    AutoModelForImageTextToText)\n",
        "from qwen_vl_utils import process_vision_info\n",
        "import torch\n",
        "from PIL import Image\n",
        "import os\n",
        "import uuid\n",
        "import io\n",
        "from threading import Thread\n",
        "from reportlab.lib.pagesizes import A4\n",
        "from reportlab.lib.styles import getSampleStyleSheet\n",
        "from reportlab.lib import colors\n",
        "from reportlab.platypus import SimpleDocTemplate, Image as RLImage, Paragraph, Spacer\n",
        "from reportlab.lib.units import inch\n",
        "from reportlab.pdfbase import pdfmetrics\n",
        "from reportlab.pdfbase.ttfonts import TTFont\n",
        "import re\n",
        "import docx\n",
        "from docx.enum.text import WD_ALIGN_PARAGRAPH\n",
        "from pptx import Presentation"
      ],
      "metadata": {
        "id": "lPX5gDE58Yo6"
      },
      "execution_count": 2,
      "outputs": []
    },
    {
      "cell_type": "markdown",
      "source": [
        "**Run app**"
      ],
      "metadata": {
        "id": "mvoSnRZcVBu4"
      }
    },
    {
      "cell_type": "code",
      "source": [
        "#Model used in the app:\n",
        "#https://huggingface.co/nanonets/Nanonets-OCR-s\n",
        "#https://huggingface.co/prithivMLmods/Qwen2-VL-OCR-2B-Instruct\n",
        "#https://huggingface.co/CohereForAI/aya-vision-8b\n",
        "#https://huggingface.co/mradermacher/olmOCR-7B-0725-GGUF\n",
        "\n",
        "# Define model options\n",
        "MODEL_OPTIONS = {\n",
        "    \"Nanonets\": \"nanonets/Nanonets-OCR-s\",\n",
        "    \"PrithivMLmods\" : \"prithivMLmods/Qwen2-VL-OCR-2B-Instruct\",\n",
        "    #\"Reducto\": \"reducto/RolmOCR\"\n",
        "}\n",
        "\n",
        "# Preload models and processors into CUDA\n",
        "models = {}\n",
        "processors = {}\n",
        "for name, model_id in MODEL_OPTIONS.items():\n",
        "    if name == \"Nanonets\":\n",
        "      models[name] = Qwen2_5_VLForConditionalGeneration.from_pretrained(\n",
        "          model_id,\n",
        "          trust_remote_code=True,\n",
        "          torch_dtype=torch.bfloat16\n",
        "      ).to(\"cuda\").eval()\n",
        "    elif name == \"PrithivMLmods\":\n",
        "      models[name] = Qwen2VLForConditionalGeneration.from_pretrained(\n",
        "          model_id,\n",
        "          trust_remote_code=True,\n",
        "          torch_dtype=torch.bfloat16\n",
        "      ).to(\"cuda\").eval()\n",
        "    # else:\n",
        "    #   models[name] = Qwen2_5_VLForConditionalGeneration.from_pretrained(model_id,\n",
        "    #       trust_remote_code=True,\n",
        "    #       torch_dtype=torch.bfloat16\n",
        "    #   ).to(\"cuda\").eval()\n",
        "    processors[name] = AutoProcessor.from_pretrained(model_id, trust_remote_code=True)\n",
        "image_extensions = Image.registered_extensions()"
      ],
      "metadata": {
        "id": "tElKr2Fkp1bO",
        "collapsed": true
      },
      "execution_count": null,
      "outputs": []
    },
    {
      "cell_type": "code",
      "source": [
        "def identify_and_save_blob(blob_path):\n",
        "    \"\"\"Identifies if the blob is an image and saves it.\"\"\"\n",
        "    try:\n",
        "        with open(blob_path, 'rb') as file:\n",
        "            blob_content = file.read()\n",
        "            try:\n",
        "                Image.open(io.BytesIO(blob_content)).verify()  # Check if it's a valid image\n",
        "                extension = \".png\"  # Default to PNG for saving\n",
        "                media_type = \"image\"\n",
        "            except (IOError, SyntaxError):\n",
        "                raise ValueError(\"Unsupported media type. Please upload a valid image.\")\n",
        "\n",
        "            filename = f\"temp_{uuid.uuid4()}_media{extension}\"\n",
        "            with open(filename, \"wb\") as f:\n",
        "                f.write(blob_content)\n",
        "\n",
        "            return filename, media_type\n",
        "\n",
        "    except FileNotFoundError:\n",
        "        raise ValueError(f\"The file {blob_path} was not found.\")\n",
        "    except Exception as e:\n",
        "        raise ValueError(f\"An error occurred while processing the file: {e}\")"
      ],
      "metadata": {
        "id": "t4ya2FN3A9HL"
      },
      "execution_count": null,
      "outputs": []
    },
    {
      "cell_type": "code",
      "source": [
        "@spaces.GPU\n",
        "def ocr_inference(model_name, media_input, text_input=None):\n",
        "    \"\"\"Handles inference for the selected model.\"\"\"\n",
        "    model = models[model_name]\n",
        "    processor = processors[model_name]\n",
        "\n",
        "    if isinstance(media_input, str):\n",
        "        media_path = media_input\n",
        "        if media_path.endswith(tuple([i for i in image_extensions.keys()])):\n",
        "            media_type = \"image\"\n",
        "        else:\n",
        "            try:\n",
        "                media_path, media_type = identify_and_save_blob(media_input)\n",
        "            except Exception as e:\n",
        "                raise ValueError(\"Unsupported media type. Please upload a valid image.\")\n",
        "\n",
        "    messages = [\n",
        "        {\n",
        "            \"role\": \"user\",\n",
        "            \"content\": [\n",
        "                {\n",
        "                    \"type\": media_type,\n",
        "                    media_type: media_path\n",
        "                },\n",
        "                {\"type\": \"text\", \"text\": text_input},\n",
        "            ],\n",
        "        }\n",
        "    ]\n",
        "\n",
        "    inputs = processor(\n",
        "            images=Image.open(media_path).convert(\"RGB\"),\n",
        "            text=text_input,\n",
        "            return_tensors=\"pt\"\n",
        "        ).to(\"cuda\")\n",
        "    streamer = TextIteratorStreamer(\n",
        "        processor.tokenizer, skip_prompt=True, skip_special_tokens=True\n",
        "    )\n",
        "    generation_kwargs = dict(inputs, streamer=streamer, max_new_tokens=1024)\n",
        "\n",
        "    thread = Thread(target=model.generate, kwargs=generation_kwargs)\n",
        "    thread.start()\n",
        "\n",
        "    buffer = \"\"\n",
        "    for new_text in streamer:\n",
        "        buffer += new_text\n",
        "        # Remove <|im_end|> or similar tokens from the output\n",
        "        buffer = buffer.replace(\"<|im_end|>\", \"\")\n",
        "        yield buffer"
      ],
      "metadata": {
        "id": "-roh7SXxA5BU"
      },
      "execution_count": null,
      "outputs": []
    },
    {
      "cell_type": "code",
      "source": [
        "def format_plain_text(output_text):\n",
        "    \"\"\"Formats the output text as plain text without LaTeX delimiters.\"\"\"\n",
        "    # Remove LaTeX delimiters and convert to plain text\n",
        "    plain_text = output_text.replace(\"\\\\(\", \"\").replace(\"\\\\)\", \"\").replace(\"\\\\[\", \"\").replace(\"\\\\]\", \"\")\n",
        "    return plain_text"
      ],
      "metadata": {
        "id": "_dJHmc4fAzZv"
      },
      "execution_count": 9,
      "outputs": []
    },
    {
      "cell_type": "code",
      "source": [
        "def generate_pdf(media_path, plain_text, font_size, line_spacing, alignment, image_size):\n",
        "    \"\"\"Generates a PDF document.\"\"\"\n",
        "    filename = f\"output_{uuid.uuid4()}.pdf\"\n",
        "    doc = SimpleDocTemplate(\n",
        "        filename,\n",
        "        pagesize=A4,\n",
        "        rightMargin=inch,\n",
        "        leftMargin=inch,\n",
        "        topMargin=inch,\n",
        "        bottomMargin=inch\n",
        "    )\n",
        "    styles = getSampleStyleSheet()\n",
        "    styles[\"Normal\"].fontSize = int(font_size)\n",
        "    styles[\"Normal\"].leading = int(font_size) * line_spacing\n",
        "    styles[\"Normal\"].alignment = {\n",
        "        \"Left\": 0,\n",
        "        \"Center\": 1,\n",
        "        \"Right\": 2,\n",
        "        \"Justified\": 4\n",
        "    }[alignment]\n",
        "\n",
        "    story = []\n",
        "\n",
        "    # Add image with size adjustment\n",
        "    image_sizes = {\n",
        "        \"Small\": (200, 200),\n",
        "        \"Medium\": (400, 400),\n",
        "        \"Large\": (600, 600)\n",
        "    }\n",
        "    img = RLImage(media_path, width=image_sizes[image_size][0], height=image_sizes[image_size][1])\n",
        "    story.append(img)\n",
        "    story.append(Spacer(1, 12))\n",
        "\n",
        "    # Add plain text output\n",
        "    text = Paragraph(plain_text, styles[\"Normal\"])\n",
        "    story.append(text)\n",
        "\n",
        "    doc.build(story)\n",
        "    return filename"
      ],
      "metadata": {
        "id": "xwhDTzACAe4n"
      },
      "execution_count": 10,
      "outputs": []
    },
    {
      "cell_type": "code",
      "source": [
        "def generate_docx(media_path, plain_text, font_size, line_spacing, alignment, image_size):\n",
        "    \"\"\"Generates a DOCX document.\"\"\"\n",
        "    filename = f\"output_{uuid.uuid4()}.docx\"\n",
        "    doc = docx.Document()\n",
        "\n",
        "    # Add image with size adjustment\n",
        "    image_sizes = {\n",
        "        \"Small\": docx.shared.Inches(2),\n",
        "        \"Medium\": docx.shared.Inches(4),\n",
        "        \"Large\": docx.shared.Inches(6)\n",
        "    }\n",
        "    doc.add_picture(media_path, width=image_sizes[image_size])\n",
        "    doc.add_paragraph()\n",
        "\n",
        "    # Add plain text output\n",
        "    paragraph = doc.add_paragraph()\n",
        "    paragraph.paragraph_format.line_spacing = line_spacing\n",
        "    paragraph.paragraph_format.alignment = {\n",
        "        \"Left\": WD_ALIGN_PARAGRAPH.LEFT,\n",
        "        \"Center\": WD_ALIGN_PARAGRAPH.CENTER,\n",
        "        \"Right\": WD_ALIGN_PARAGRAPH.RIGHT,\n",
        "        \"Justified\": WD_ALIGN_PARAGRAPH.JUSTIFY\n",
        "    }[alignment]\n",
        "    run = paragraph.add_run(plain_text)\n",
        "    run.font.size = docx.shared.Pt(int(font_size))\n",
        "\n",
        "    doc.save(filename)\n",
        "    return filename"
      ],
      "metadata": {
        "id": "PgEBVdM0AbRo"
      },
      "execution_count": 11,
      "outputs": []
    },
    {
      "cell_type": "code",
      "source": [
        "def generate_markdown_file(media_path, markdown_text, image_size):\n",
        "    \"\"\"Generates a Markdown document.\"\"\"\n",
        "    filename = f\"output_{uuid.uuid4()}.md\"\n",
        "    image_sizes = {\n",
        "        \"Small\": \"200\",\n",
        "        \"Medium\": \"400\",\n",
        "        \"Large\": \"600\"\n",
        "    }\n",
        "    markdown_content = f\"\"\"\n",
        "![Image]({media_path})\n",
        "\n",
        "$${markdown_text}$$\n",
        "\"\"\"\n",
        "    with open(filename, \"w\") as f:\n",
        "        f.write(markdown_content)\n",
        "    return filename"
      ],
      "metadata": {
        "id": "gzvSioSsoLBH"
      },
      "execution_count": 25,
      "outputs": []
    },
    {
      "cell_type": "code",
      "source": [
        "def generate_latex(media_path, latex_text, image_size):\n",
        "    \"\"\"Generates a LaTeX document.\"\"\"\n",
        "    filename = f\"output_{uuid.uuid4()}.tex\"\n",
        "    image_sizes = {\n",
        "        \"Small\": \"0.3\\\\textwidth\",\n",
        "        \"Medium\": \"0.6\\\\textwidth\",\n",
        "        \"Large\": \"0.9\\\\textwidth\"\n",
        "    }\n",
        "    latex_content = f\"\"\"\n",
        "\\\\documentclass{{article}}\n",
        "\\\\usepackage{{graphicx}}\n",
        "\\\\usepackage{{geometry}}\n",
        "\\\\geometry{{a4paper, margin=1in}}\n",
        "\n",
        "\\\\begin{{document}}\n",
        "\n",
        "\\\\begin{{figure}}[h!]\n",
        "    \\\\centering\n",
        "    \\\\includegraphics[width={image_sizes[image_size]}]{{{media_path}}}\n",
        "\\\\end{{figure}}\n",
        "\n",
        "{latex_text}\n",
        "\n",
        "\\\\end{{document}}\n",
        "\"\"\"\n",
        "    with open(filename, \"w\") as f:\n",
        "        f.write(latex_content)\n",
        "    return filename"
      ],
      "metadata": {
        "id": "LJqGALogocZ2"
      },
      "execution_count": 20,
      "outputs": []
    },
    {
      "cell_type": "code",
      "source": [
        "def generate_document(media_path, output_text, file_format, font_size, line_spacing, alignment, image_size):\n",
        "    \"\"\"Generates a document with the input image and plain text output.\"\"\"\n",
        "    plain_text = format_plain_text(output_text)\n",
        "    if file_format == \"pdf\":\n",
        "        return generate_pdf(media_path, plain_text, font_size, line_spacing, alignment, image_size)\n",
        "    elif file_format == \"docx\":\n",
        "        return generate_docx(media_path, plain_text, font_size, line_spacing, alignment, image_size)\n",
        "    elif file_format == \"markdown\":\n",
        "        return generate_markdown_file(media_path, plain_text, image_size)\n",
        "    elif file_format == \"latex\":\n",
        "        return generate_latex(media_path, plain_text, image_size)\n",
        "    else:\n",
        "        return output_text"
      ],
      "metadata": {
        "id": "JQY2qHRZAuW2"
      },
      "execution_count": 21,
      "outputs": []
    },
    {
      "cell_type": "code",
      "metadata": {
        "id": "ed2f4b0f"
      },
      "source": [
        "def format_markdown(output_text):\n",
        "    \"\"\"Formats the output text as Markdown.\"\"\"\n",
        "    # This is a basic implementation. You might need to add more sophisticated Markdown formatting\n",
        "    # depending on the expected content of the output_text.\n",
        "    markdown_text = output_text.replace('\\\\(', '$').replace('\\\\)', '$').replace('\\\\[', '$$').replace('\\\\]', '$$')\n",
        "    return markdown_text"
      ],
      "execution_count": 18,
      "outputs": []
    },
    {
      "cell_type": "code",
      "metadata": {
        "id": "2865db42"
      },
      "source": [
        "def format_latex(output_text):\n",
        "    \"\"\"Formats the output text as LaTeX.\"\"\"\n",
        "    # This is a basic implementation. You might need to add more sophisticated LaTeX formatting\n",
        "    # depending on the expected content of the output_text.\n",
        "    latex_text = output_text.replace('\\\\(', '$').replace('\\\\)', '$').replace('\\\\[', '$$').replace('\\\\]', '$$')\n",
        "    return latex_text"
      ],
      "execution_count": 14,
      "outputs": []
    },
    {
      "cell_type": "code",
      "metadata": {
        "id": "cda0478f"
      },
      "source": [
        "def categorize_formulas(latex_formulas):\n",
        "    \"\"\"Categorizes LaTeX formulas based on predefined categories.\"\"\"\n",
        "    categories = {\n",
        "        #Lý thuyết tập hợp\n",
        "        \"set_theory\": [r\"\\\\cup\", r\"\\\\cap\", r\"\\\\setminus\", r\"\\\\emptyset\", r\"\\\\subseteq\", r\"\\\\supseteq\", r\"\\\\in\", r\"\\\\notin\", r\"\\\\forall\", r\"\\\\exists\"],\n",
        "        #Thống kê\n",
        "        \"statistics\": [r\"\\\\mu\", r\"\\\\sigma\", r\"\\\\rho\", r\"\\\\beta\", r\"\\\\sum\", r\"\\\\bar\", r\"\\\\hat\", r\"\\\\mathbb{E}\", r\"\\\\mathrm{Var}\", r\"\\\\mathrm{Cov}\"],\n",
        "        #Tích phân\n",
        "        \"integral\": [r\"\\\\int\", r\"\\\\iint\", r\"\\\\iiint\", r\"\\\\oint\", r\"d[a-zA-Z]\"],\n",
        "        #Ký hiệu Hy Lạp\n",
        "        \"greek_symbols\": [r\"\\\\[a-zA-Z]+\", r\"[α-ωΑ-Ω]\"], # Catch most Greek symbols\n",
        "        #Đại số tuyến tính\n",
        "        \"linear_algebra\": [r\"\\\\begin\\{pmatrix\\}\", r\"\\\\begin\\{bmatrix\\}\", r\"\\\\det\", r\"\\\\mathrm{Tr}\", r\"\\\\vec\", r\"\\\\cdot\"],\n",
        "        #Logarit\n",
        "        \"logarithms\": [r\"\\\\log\", r\"\\\\ln\"],\n",
        "        \"basic_math\": [r\"\\+\", r\"-\", r\"\\\\*\", r\"/\", r\"=\", r\"<\", r\">\", r\"\\\\le\", r\"\\\\ge\"],\n",
        "        #Phân số\n",
        "        \"fractions\": [r\"\\\\frac\"],\n",
        "        #Vi phân\n",
        "        \"differential\": [r\"\\\\frac\\{d\", r\"\\\\partial\"],\n",
        "        #Lượng giác\n",
        "        \"trig\": [r\"\\\\sin\", r\"\\\\cos\", r\"\\\\tan\", r\"\\\\cot\", r\"\\\\sec\", r\"\\\\csc\", r\"\\\\arcsin\", r\"\\\\arccos\", r\"\\\\arctan\"],\n",
        "        #Tổng\n",
        "        \"summation\": [r\"\\\\sum\"],\n",
        "        #Lũy thừa và căn\n",
        "        \"powers_roots\": [r\"\\^\", r\"\\\\sqrt\"],\n",
        "        #Lim: giới hạn giải tích\n",
        "        \"limits\": [r\"\\\\lim\"],\n",
        "        #Bất đẳng thức\n",
        "        \"inequalities\": [r\"<\", r\">\", r\"\\\\le\", r\"\\\\ge\", r\"\\\\neq\"],\n",
        "        #Hình học\n",
        "        \"geometry\": [r\"\\\\angle\", r\"\\\\triangle\", r\"\\\\vec\"],\n",
        "        #Số phức\n",
        "        \"complex_numbers\": [r\"i\", r\"j\", r\"\\\\mathbb{C}\", r\"\\\\Re\", r\"\\\\Im\"],\n",
        "        \"Other\": []\n",
        "    }\n",
        "\n",
        "    categorized = {category: [] for category in categories}\n",
        "\n",
        "    # Extract formulas from the input text. Assuming formulas are delimited by $...$ or $$...$$\n",
        "    formula_pattern = r'\\$(.*?)\\$|\\$\\$(.*?)\\$\\$'\n",
        "    extracted_formulas = re.findall(formula_pattern, latex_formulas)\n",
        "\n",
        "    # Flatten the list of tuples and keep non-empty strings\n",
        "    extracted_formulas = [f for sublist in extracted_formulas for f in sublist if f]\n",
        "\n",
        "    for formula in extracted_formulas:\n",
        "        assigned_category = \"Other\"\n",
        "        for category, patterns in categories.items():\n",
        "            if category != \"Other\":\n",
        "                for pattern in patterns:\n",
        "                    if re.search(pattern, formula):\n",
        "                        assigned_category = category\n",
        "                        break\n",
        "                if assigned_category != \"Other\":\n",
        "                    break\n",
        "        categorized[assigned_category].append(formula)\n",
        "\n",
        "    return categorized"
      ],
      "execution_count": null,
      "outputs": []
    },
    {
      "cell_type": "code",
      "source": [
        "def update_formatted_output(output_text, output_format):\n",
        "    if output_format == \"Plain Text\":\n",
        "        return format_plain_text(output_text)\n",
        "    elif output_format == \"Markdown\":\n",
        "        return format_markdown(output_text)\n",
        "    elif output_format == \"LaTex\":\n",
        "        return format_latex(output_text)\n",
        "    else:\n",
        "        return output_text"
      ],
      "metadata": {
        "id": "AeekU0qlyGcj"
      },
      "execution_count": null,
      "outputs": []
    },
    {
      "cell_type": "code",
      "source": [
        "def process_and_categorize(model_name, media_input, text_input):\n",
        "    # First, run the OCR inference\n",
        "    ocr_output = \"\"\n",
        "    for text_chunk in ocr_inference(model_name, media_input, text_input):\n",
        "        ocr_output += text_chunk\n",
        "    yield ocr_output, None # Update output_text first\n",
        "    # Then, categorize the formulas\n",
        "    categorized = categorize_formulas(ocr_output)\n",
        "    yield ocr_output, categorized # Update categorized_formulas_output"
      ],
      "metadata": {
        "id": "iCYyEGnuyQ0P"
      },
      "execution_count": null,
      "outputs": []
    },
    {
      "cell_type": "code",
      "source": [
        "# CSS for output styling\n",
        "css = \"\"\"\n",
        "  #output {\n",
        "    height: 500px;\n",
        "    overflow: auto;\n",
        "    border: 1px solid #ccc;\n",
        "  }\n",
        ".submit-btn {\n",
        "    background-color: #cf3434  !important;\n",
        "    color: white !important;\n",
        "}\n",
        ".submit-btn:hover {\n",
        "    background-color: #ff2323 !important;\n",
        "}\n",
        ".download-btn {\n",
        "    background-color: #35a6d6 !important;\n",
        "    color: white !important;\n",
        "}\n",
        ".download-btn:hover {\n",
        "    background-color: #22bcff !important;\n",
        "}\n",
        "\"\"\"\n",
        "# Gradio app setup\n",
        "with gr.Blocks(css=css, theme=\"bethecloud/storj_theme\") as demo:\n",
        "    gr.Markdown(\"# **OCR : All you needed**\")\n",
        "\n",
        "    with gr.Tab(label=\"Image Input\"):\n",
        "        with gr.Row():\n",
        "            with gr.Column():\n",
        "                model_choice = gr.Dropdown(\n",
        "                    label=\"Model Selection\",\n",
        "                    choices=list(MODEL_OPTIONS.keys()),\n",
        "                    value=\"Nanonets\"\n",
        "                )\n",
        "                input_media = gr.File(\n",
        "                    label=\"Upload Image\", type=\"filepath\"\n",
        "                )\n",
        "                # Incase LaTex: please input \"Identify and format any formulas found in the image using LaTeX.\"\n",
        "                text_input = gr.Textbox(label=\"Question\", value=\"OCR the image precisely.\")\n",
        "                submit_btn = gr.Button(value=\"Submit\", elem_classes=\"submit-btn\")\n",
        "\n",
        "            with gr.Column():\n",
        "                output_text = gr.Textbox(label=\"Output Text\", lines=7)\n",
        "\n",
        "                output_format_radio = gr.Radio(choices=[\"Plain Text\", \"Markdown\", \"LaTex\"], label=\"Select Output Format\", value=\"Plain Text\", visible=True)\n",
        "                formatted_output = gr.Textbox(label=\"Formatted Output\", lines=10)\n",
        "\n",
        "                # Section to display categorized formulas\n",
        "                gr.Markdown(\"### Categorized Formulas\")\n",
        "                categorized_formulas_output = gr.JSON(label=\"Categorized Formulas\")\n",
        "\n",
        "        submit_btn.click(\n",
        "            process_and_categorize, [model_choice, input_media, text_input], [output_text, categorized_formulas_output]\n",
        "        )\n",
        "\n",
        "        output_text.change(\n",
        "            update_formatted_output, [output_text, output_format_radio], [formatted_output]\n",
        "        )\n",
        "        output_format_radio.change(\n",
        "            update_formatted_output, [output_text, output_format_radio], [formatted_output]\n",
        "        )\n",
        "\n",
        "        with gr.Accordion(\"Docx/PDF Settings\", open=False):\n",
        "          with gr.Row():\n",
        "              with gr.Column():\n",
        "                  line_spacing = gr.Dropdown(\n",
        "                      choices=[0.5, 1.0, 1.15, 1.5, 2.0, 2.5, 3.0],\n",
        "                      value=1.5,\n",
        "                      label=\"Line Spacing\"\n",
        "                  )\n",
        "                  font_size = gr.Dropdown(\n",
        "                      choices=[\"8\", \"10\", \"12\", \"14\", \"16\", \"18\", \"20\", \"22\", \"24\"],\n",
        "                      value=\"16\",\n",
        "                      label=\"Font Size\"\n",
        "                  )\n",
        "                  alignment = gr.Dropdown(\n",
        "                      choices=[\"Left\", \"Center\", \"Right\", \"Justified\"],\n",
        "                      value=\"Justified\",\n",
        "                      label=\"Text Alignment\"\n",
        "                  )\n",
        "                  image_size = gr.Dropdown(\n",
        "                      choices=[\"Small\", \"Medium\", \"Large\"],\n",
        "                      value=\"Medium\",\n",
        "                      label=\"Image Size\"\n",
        "                  )\n",
        "                  file_format = gr.Radio([\"pdf\", \"docx\", \"markdown\", \"latex\"], label=\"File Format\", value=\"pdf\")\n",
        "\n",
        "        get_document_btn = gr.Button(value=\"Get Document\", elem_classes=\"download-btn\")\n",
        "\n",
        "        get_document_btn.click(\n",
        "            generate_document, [input_media, output_text, file_format, font_size, line_spacing, alignment, image_size], gr.File(label=\"Download Document\")\n",
        "        )"
      ],
      "metadata": {
        "id": "oNADc4fUAJ1A"
      },
      "execution_count": 31,
      "outputs": []
    },
    {
      "cell_type": "code",
      "source": [
        "demo.launch(debug=True)"
      ],
      "metadata": {
        "id": "pRfPI5-Q79gT"
      },
      "execution_count": null,
      "outputs": []
    }
  ]
}